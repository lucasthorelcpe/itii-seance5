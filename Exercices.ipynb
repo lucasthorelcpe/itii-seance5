{
  "nbformat": 4,
  "nbformat_minor": 0,
  "metadata": {
    "colab": {
      "name": "Exercices.ipynb",
      "provenance": [],
      "collapsed_sections": []
    },
    "kernelspec": {
      "name": "python3",
      "display_name": "Python 3"
    }
  },
  "cells": [
    {
      "cell_type": "code",
      "metadata": {
        "id": "jvdApTojv8vx"
      },
      "source": [
        "#Exercice 1\n",
        "import numpy\n",
        "\n",
        "def tauxdevariation(fn, a, h):\n",
        "    taux = (fn(a+h)-fn(a))/h\n",
        "    return taux\n",
        "\n",
        "def fn(x):\n",
        "    return 3*pow(x, 3) + 1*pow(x, 2) - 5\n",
        "\n",
        "tauxdevariation(fn, 10, 3)"
      ],
      "execution_count": null,
      "outputs": []
    },
    {
      "cell_type": "code",
      "metadata": {
        "id": "thuzbRs1wB_y"
      },
      "source": [
        "#Exercice 4\n",
        "\n",
        "def Find_Sn(n):\n",
        "    Sn=0\n",
        "    for i in range(1,n+1):\n",
        "        Tn=i**2 -(i-1)**2\n",
        "        Sn=Sn+Tn\n",
        "    return Sn\n",
        "\n",
        "print(Find_Sn(3))"
      ],
      "execution_count": null,
      "outputs": []
    },
    {
      "cell_type": "code",
      "metadata": {
        "id": "O76UUGpVzvpu"
      },
      "source": [
        "#Exercice 5\n",
        "def deter(e, u0):\n",
        "    b = 1;\n",
        "    un = u0\n",
        "    n = 0;\n",
        "    while ( b == 1 ):\n",
        "        un = uN(un)\n",
        "        print(un)\n",
        "        if(un < e):\n",
        "            b = 0\n",
        "        else:\n",
        "            n+=1\n",
        "\n",
        "    return n;\n",
        "\n",
        "def uN(un):\n",
        "    return 0.5*un\n",
        "\n",
        "deter(5, 2)"
      ],
      "execution_count": null,
      "outputs": []
    },
    {
      "cell_type": "code",
      "metadata": {
        "id": "YfS3EndhyYK2"
      },
      "source": [
        "#Exercice 6 \n",
        "def val_app(epsilon): \n",
        "    elm1=1\n",
        "    elm2=elm1-1/(3**2)\n",
        "    signe=1\n",
        "    val=5\n",
        "    while abs(elm2-elm1)>epsilon:\n",
        "       elm1=elm2\n",
        "       elm2=elm1+signe*(1/(val**2))\n",
        "       val+=2\n",
        "       signe*=(-1)\n",
        "    return elm2\n",
        " \n",
        "# tester la fonction\n",
        "print(val_app(0.05))"
      ],
      "execution_count": null,
      "outputs": []
    },
    {
      "cell_type": "code",
      "metadata": {
        "id": "gWdCdhnDzOhF"
      },
      "source": [
        "#Exercice 7\n",
        "def limite(epsilon):\n",
        "    U0 = 2\n",
        "    Un = U0+2/U0\n",
        "    while abs(Un-U0) > epsilon:\n",
        "        U0 = Un\n",
        "        Un = U0+2/U0\n",
        "    return Un\n",
        " \n",
        " \n",
        "print(limite(0.05))"
      ],
      "execution_count": null,
      "outputs": []
    }
  ]
}